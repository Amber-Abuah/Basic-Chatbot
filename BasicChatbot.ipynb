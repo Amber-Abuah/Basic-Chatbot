{
 "cells": [
  {
   "cell_type": "code",
   "execution_count": 1,
   "id": "10f592a2-e6c4-4898-a2f0-0874bd5664a2",
   "metadata": {},
   "outputs": [],
   "source": [
    "import json\n",
    "\n",
    "with open(\"intents.json\") as file:\n",
    "    data = json.load(file)"
   ]
  },
  {
   "cell_type": "code",
   "execution_count": 2,
   "id": "35551c59-c335-4e53-8c05-a47a457d5628",
   "metadata": {},
   "outputs": [],
   "source": [
    "import nltk\n",
    "from nltk.stem.lancaster import LancasterStemmer\n",
    "stemmer = LancasterStemmer()\n",
    "\n",
    "def stemming():\n",
    "    words = []\n",
    "    labels = [] # Holds all possible tags\n",
    "    patterns_dict = {} # Holds all patterns and their relative tags\n",
    "    \n",
    "    for intent in data[\"intents\"]:\n",
    "        for pattern in intent[\"patterns\"]:\n",
    "             # Breaks down patterns into their word substrings\n",
    "            tokenized_words = nltk.word_tokenize(pattern)\n",
    "            \n",
    "            words.extend(tokenized_words)\n",
    "            patterns_dict[pattern] = intent[\"tag\"]\n",
    "\n",
    "            if intent[\"tag\"] not in labels:\n",
    "                labels.append(intent[\"tag\"])\n",
    "\n",
    "    # Breaks all words down to their root word (e.g. programmer, programming -> program)\n",
    "    words = [stemmer.stem(w.lower()) for w in words]\n",
    "    words = sorted(list(set(words)))\n",
    "    labels = sorted(labels)\n",
    "\n",
    "stemming()"
   ]
  },
  {
   "cell_type": "code",
   "execution_count": null,
   "id": "b09b1802-db83-4096-8b40-464ba45d4f97",
   "metadata": {},
   "outputs": [],
   "source": []
  }
 ],
 "metadata": {
  "kernelspec": {
   "display_name": "Python 3 (ipykernel)",
   "language": "python",
   "name": "python3"
  },
  "language_info": {
   "codemirror_mode": {
    "name": "ipython",
    "version": 3
   },
   "file_extension": ".py",
   "mimetype": "text/x-python",
   "name": "python",
   "nbconvert_exporter": "python",
   "pygments_lexer": "ipython3",
   "version": "3.11.2"
  }
 },
 "nbformat": 4,
 "nbformat_minor": 5
}
