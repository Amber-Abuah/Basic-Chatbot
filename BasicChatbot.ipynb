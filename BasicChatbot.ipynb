{
 "cells": [
  {
   "cell_type": "code",
   "execution_count": 1,
   "id": "134600f3-d41b-41d8-a4f6-3a1fdfb80e00",
   "metadata": {},
   "outputs": [],
   "source": [
    "import json\n",
    "\n",
    "with open(\"intents.json\") as file:\n",
    "    data = json.load(file)"
   ]
  },
  {
   "cell_type": "markdown",
   "id": "d5a63ff9-f090-4915-a701-9cd7862818a7",
   "metadata": {},
   "source": [
    "### Data Preprocessing"
   ]
  },
  {
   "cell_type": "code",
   "execution_count": 2,
   "id": "35551c59-c335-4e53-8c05-a47a457d5628",
   "metadata": {},
   "outputs": [
    {
     "name": "stdout",
     "output_type": "stream",
     "text": [
      "All stemmed words = [\"'d\", \"'s\", 'a', 'about', 'am', 'amaz', 'ar', 'aw', 'bad', 'been', 'bye', 'cal', 'cat', 'cool', 'day', 'do', 'doing', 'fantast', 'going', 'good', 'goodby', 'gre', 'greet', 'hav', 'hello', 'hey', 'hi', 'how', 'i', 'is', 'it', 'lat', 'leav', 'lik', 'nam', 'sad', 'see', 'should', 'talk', 'to', 'up', 'what', 'yo', 'you']\n",
      "\n",
      " All labels = ['cat', 'goodbye', 'greeting', 'how are you', 'name', 'negative', 'positive', 'talk']\n",
      "\n",
      " All patterns and their respective tags = {('hi',): 'greeting', ('hello',): 'greeting', ('greetings',): 'greeting', ('good', 'day'): 'greeting', ('hey',): 'greeting', ('bye',): 'goodbye', ('see', 'you', 'later'): 'goodbye', ('goodbye',): 'goodbye', ('i', 'am', 'Leaving'): 'goodbye', ('have', 'a', 'good', 'day'): 'goodbye', ('how', 'are', 'you'): 'how are you', ('how', 'have', 'you', 'been'): 'how are you', ('how', 'are', 'you', 'doing'): 'how are you', ('what', \"'s\", 'up'): 'how are you', ('how', \"'s\", 'it', 'going'): 'how are you', ('do', 'you', 'like', 'cats'): 'cat', ('cats', 'are', 'cool'): 'cat', ('what', 'is', 'your', 'name'): 'name', ('what', 'should', 'I', 'call', 'you'): 'name', ('what', \"'s\", 'your', 'name', '?'): 'name', ('i', \"'d\", 'like', 'to', 'talk'): 'talk', ('what', 'to', 'talk', 'about'): 'talk', ('good',): 'positive', ('amazing',): 'positive', ('great',): 'positive', ('fantastic',): 'positive', ('bad',): 'negative', ('awful',): 'negative', ('sad',): 'negative'}\n"
     ]
    }
   ],
   "source": [
    "import nltk\n",
    "from nltk.stem.lancaster import LancasterStemmer\n",
    "stemmer = LancasterStemmer()\n",
    "\n",
    "def stemming():\n",
    "    words = []\n",
    "    labels = [] # Holds all possible tags\n",
    "    patterns_dict = {} # Holds all patterns and their relative tags\n",
    "    \n",
    "    for intent in data[\"intents\"]:\n",
    "        for pattern in intent[\"patterns\"]:\n",
    "             # Breaks down patterns into their word substrings\n",
    "            tokenized_patterns = nltk.word_tokenize(pattern)\n",
    "            \n",
    "            words.extend(tokenized_patterns)\n",
    "            patterns_dict[tuple(tokenized_patterns)] = intent[\"tag\"]\n",
    "\n",
    "            if intent[\"tag\"] not in labels:\n",
    "                labels.append(intent[\"tag\"])\n",
    "\n",
    "    # Breaks all words down to their root word (e.g. programmer, programming -> program)\n",
    "    words = [stemmer.stem(w.lower()) for w in words if w != \"?\"]\n",
    "    words = sorted(list(set(words)))\n",
    "    labels = sorted(labels)\n",
    "\n",
    "    return words, labels, patterns_dict\n",
    "\n",
    "words, labels, patterns_dict = stemming()\n",
    "\n",
    "print(f\"All stemmed words = {words}\")\n",
    "print(f\"\\n All labels = {labels}\")\n",
    "print(f\"\\n All patterns and their respective tags = {patterns_dict}\")"
   ]
  },
  {
   "cell_type": "code",
   "execution_count": 3,
   "id": "06b4caf6-df98-4fca-954a-c67262304a84",
   "metadata": {},
   "outputs": [],
   "source": [
    "import numpy as np\n",
    "\n",
    "# Converts words data into numerical values\n",
    "def one_hot_encoding(words, labels, patterns):\n",
    "    train = []\n",
    "    output = []\n",
    "    \n",
    "    for x, pattern in enumerate(list(patterns_dict.keys())):\n",
    "        bag = []\n",
    "        stemmed_words = [stemmer.stem(w) for w in pattern]\n",
    "\n",
    "        # If the word is present, add 1 to the bag, otherwise 0\n",
    "        for w in words:\n",
    "            if w in stemmed_words:\n",
    "                bag.append(1)\n",
    "            else:\n",
    "                bag.append(0)\n",
    "\n",
    "        output_row = np.zeros(len(labels))\n",
    "        output_row[labels.index(list(patterns.values())[x])] = 1\n",
    "\n",
    "        train.append(bag)\n",
    "        output.append(output_row)\n",
    "\n",
    "    return np.array(train), np.array(output)\n",
    "        \n",
    "train, output = one_hot_encoding(words, labels, patterns_dict)"
   ]
  },
  {
   "cell_type": "markdown",
   "id": "170ab40e-75e0-4fca-8fec-23704523339a",
   "metadata": {},
   "source": [
    "### Creating The Model"
   ]
  },
  {
   "cell_type": "code",
   "execution_count": 4,
   "id": "13245cc3-3a0b-4bc1-ad15-e6de5b135914",
   "metadata": {},
   "outputs": [
    {
     "name": "stderr",
     "output_type": "stream",
     "text": [
      "IOPub message rate exceeded.\n",
      "The Jupyter server will temporarily stop sending output\n",
      "to the client in order to avoid crashing it.\n",
      "To change this limit, set the config variable\n",
      "`--ServerApp.iopub_msg_rate_limit`.\n",
      "\n",
      "Current values:\n",
      "ServerApp.iopub_msg_rate_limit=1000.0 (msgs/sec)\n",
      "ServerApp.rate_limit_window=3.0 (secs)\n",
      "\n"
     ]
    }
   ],
   "source": [
    "import tensorflow as tf\n",
    "import tflearn as tfl\n",
    "\n",
    "def create_model():\n",
    "    tf.compat.v1.reset_default_graph()\n",
    "    nn = tfl.input_data(shape=[None, len(train[0])])\n",
    "    \n",
    "    # NN has 2 hidden layers, with 8 nuerons each.\n",
    "    nn = tfl.fully_connected(nn, 8)\n",
    "    nn = tfl.fully_connected(nn, 8)\n",
    "\n",
    "    # Specifies the number of nuerons in the output layer and the activation function used\n",
    "    nn = tfl.fully_connected(nn, len(output[0]), activation=\"softmax\") \n",
    "    nn = tfl.regression(nn)\n",
    "    \n",
    "    model = tfl.DNN(nn)\n",
    "    model.fit(train, output, n_epoch = 1000, batch_size = 8, show_metric = True)\n",
    "    model.save(\"model.tflearn\")\n",
    "\n",
    "    return model\n",
    "\n",
    "model = create_model()"
   ]
  },
  {
   "cell_type": "code",
   "execution_count": 6,
   "id": "a80f0a27-0e2c-44fb-843b-26a9eeda4269",
   "metadata": {},
   "outputs": [
    {
     "name": "stdout",
     "output_type": "stream",
     "text": [
      "Hi!\n"
     ]
    }
   ],
   "source": [
    "import random\n",
    "\n",
    "# Turns input from user into a bag of words\n",
    "def predict(input, words, model):\n",
    "    # Creates bag of words for input from user\n",
    "    bag = np.zeros(len(words))\n",
    "\n",
    "    tokenized_input = nltk.word_tokenize(input)\n",
    "    stemmed_input = [stemmer.stem(w.lower()) for w in tokenized_input]\n",
    "\n",
    "    for i in stemmed_input:\n",
    "        for j, k in enumerate(words):\n",
    "            if k == i:\n",
    "                bag[j] = 1\n",
    "\n",
    "    # Passes the input to the model to use for prediction.\n",
    "    # Then retrieves and return one of the most likely correct responses.\n",
    "    results = model.predict(bag.reshape(1, len(words)))\n",
    "    results_index = np.argmax(results)\n",
    "    tag = labels[results_index]\n",
    "\n",
    "    for intent in data[\"intents\"]:\n",
    "            if intent['tag'] == tag:\n",
    "                responses = intent['responses']\n",
    "                \n",
    "    return (random.choice(responses))\n",
    "    \n",
    "print(predict(\"hi\", words, model))"
   ]
  },
  {
   "cell_type": "code",
   "execution_count": 7,
   "id": "8726453a-1927-4777-9e86-14f9fa345222",
   "metadata": {},
   "outputs": [
    {
     "name": "stdout",
     "output_type": "stream",
     "text": [
      "Hello, I am Catabot! Feel free to ask me anything!\n"
     ]
    },
    {
     "name": "stdin",
     "output_type": "stream",
     "text": [
      " hi\n"
     ]
    },
    {
     "name": "stdout",
     "output_type": "stream",
     "text": [
      "Hello there!\n"
     ]
    },
    {
     "name": "stdin",
     "output_type": "stream",
     "text": [
      " How are you?\n"
     ]
    },
    {
     "name": "stdout",
     "output_type": "stream",
     "text": [
      "I'm am doing great! How are you doing?\n"
     ]
    },
    {
     "name": "stdin",
     "output_type": "stream",
     "text": [
      " I'm doing fantastic\n"
     ]
    },
    {
     "name": "stdout",
     "output_type": "stream",
     "text": [
      "Excellent to hear!\n"
     ]
    },
    {
     "name": "stdin",
     "output_type": "stream",
     "text": [
      " What should we talk about?\n"
     ]
    },
    {
     "name": "stdout",
     "output_type": "stream",
     "text": [
      "We can talk about anything you want!\n"
     ]
    },
    {
     "name": "stdin",
     "output_type": "stream",
     "text": [
      " Do you like cats?\n"
     ]
    },
    {
     "name": "stdout",
     "output_type": "stream",
     "text": [
      "Yes, I love cats!\n"
     ]
    },
    {
     "name": "stdin",
     "output_type": "stream",
     "text": [
      " Nice talking to you. Goodbye!\n"
     ]
    },
    {
     "name": "stdout",
     "output_type": "stream",
     "text": [
      "Incredible!\n"
     ]
    },
    {
     "name": "stdin",
     "output_type": "stream",
     "text": [
      " q\n"
     ]
    }
   ],
   "source": [
    "def chat():\n",
    "    print(\"Hello, I am Catabot! Feel free to ask me anything!\")\n",
    "    \n",
    "    while(True):\n",
    "        user_input = input()\n",
    "\n",
    "        if(user_input == \"q\"):\n",
    "            break\n",
    "            \n",
    "        print(predict(user_input.lower(), words, model))\n",
    "\n",
    "chat()"
   ]
  }
 ],
 "metadata": {
  "kernelspec": {
   "display_name": "Python 3 (ipykernel)",
   "language": "python",
   "name": "python3"
  },
  "language_info": {
   "codemirror_mode": {
    "name": "ipython",
    "version": 3
   },
   "file_extension": ".py",
   "mimetype": "text/x-python",
   "name": "python",
   "nbconvert_exporter": "python",
   "pygments_lexer": "ipython3",
   "version": "3.11.2"
  }
 },
 "nbformat": 4,
 "nbformat_minor": 5
}
