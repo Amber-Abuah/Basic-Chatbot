{
 "cells": [
  {
   "cell_type": "code",
   "execution_count": 1,
   "id": "134600f3-d41b-41d8-a4f6-3a1fdfb80e00",
   "metadata": {},
   "outputs": [],
   "source": [
    "import json\n",
    "\n",
    "with open(\"intents.json\") as file:\n",
    "    data = json.load(file)"
   ]
  },
  {
   "cell_type": "markdown",
   "id": "d5a63ff9-f090-4915-a701-9cd7862818a7",
   "metadata": {},
   "source": [
    "### Data Preprocessing"
   ]
  },
  {
   "cell_type": "code",
   "execution_count": 2,
   "id": "35551c59-c335-4e53-8c05-a47a457d5628",
   "metadata": {},
   "outputs": [
    {
     "name": "stdout",
     "output_type": "stream",
     "text": [
      "All stemmed words = [\"'d\", \"'s\", 'a', 'about', 'am', 'amaz', 'ar', 'aw', 'bad', 'bye', 'cal', 'cat', 'cool', 'day', 'do', 'fantast', 'good', 'goodby', 'gre', 'greet', 'hav', 'hello', 'hey', 'hi', 'i', 'is', 'lat', 'leav', 'lik', 'nam', 'sad', 'see', 'should', 'talk', 'to', 'what', 'yo', 'you']\n",
      "\n",
      " All labels = ['cat', 'goodbye', 'greeting', 'name', 'negative', 'positive', 'talk']\n",
      "\n",
      " All patterns and their respective tags = {('hi',): 'greeting', ('hello',): 'greeting', ('greetings',): 'greeting', ('good', 'day'): 'greeting', ('hey',): 'greeting', ('bye',): 'goodbye', ('see', 'you', 'later'): 'goodbye', ('goodbye',): 'goodbye', ('i', 'am', 'Leaving'): 'goodbye', ('have', 'a', 'good', 'day'): 'goodbye', ('do', 'you', 'like', 'cats'): 'cat', ('cats', 'are', 'cool'): 'cat', ('what', 'is', 'your', 'name'): 'name', ('what', 'should', 'I', 'call', 'you'): 'name', ('what', \"'s\", 'your', 'name', '?'): 'name', ('i', \"'d\", 'like', 'to', 'talk'): 'talk', ('what', 'to', 'talk', 'about'): 'talk', ('good',): 'positive', ('amazing',): 'positive', ('great',): 'positive', ('fantastic',): 'positive', ('bad',): 'negative', ('awful',): 'negative', ('sad',): 'negative'}\n"
     ]
    }
   ],
   "source": [
    "import nltk\n",
    "from nltk.stem.lancaster import LancasterStemmer\n",
    "stemmer = LancasterStemmer()\n",
    "\n",
    "def stemming():\n",
    "    words = []\n",
    "    labels = [] # Holds all possible tags\n",
    "    patterns_dict = {} # Holds all patterns and their relative tags\n",
    "    \n",
    "    for intent in data[\"intents\"]:\n",
    "        for pattern in intent[\"patterns\"]:\n",
    "             # Breaks down patterns into their word substrings\n",
    "            tokenized_patterns = nltk.word_tokenize(pattern)\n",
    "            \n",
    "            words.extend(tokenized_patterns)\n",
    "            patterns_dict[tuple(tokenized_patterns)] = intent[\"tag\"]\n",
    "\n",
    "            if intent[\"tag\"] not in labels:\n",
    "                labels.append(intent[\"tag\"])\n",
    "\n",
    "    # Breaks all words down to their root word (e.g. programmer, programming -> program)\n",
    "    words = [stemmer.stem(w.lower()) for w in words if w != \"?\"]\n",
    "    words = sorted(list(set(words)))\n",
    "    labels = sorted(labels)\n",
    "\n",
    "    return words, labels, patterns_dict\n",
    "\n",
    "words, labels, patterns_dict = stemming()\n",
    "\n",
    "print(f\"All stemmed words = {words}\")\n",
    "print(f\"\\n All labels = {labels}\")\n",
    "print(f\"\\n All patterns and their respective tags = {patterns_dict}\")"
   ]
  },
  {
   "cell_type": "code",
   "execution_count": 3,
   "id": "b09b1802-db83-4096-8b40-464ba45d4f97",
   "metadata": {},
   "outputs": [],
   "source": [
    "import numpy as np\n",
    "\n",
    "# Converts words data into numerical values\n",
    "def one_hot_encoding(words, labels, patterns):\n",
    "    train = []\n",
    "    output = []\n",
    "    \n",
    "    for x, pattern in enumerate(list(patterns_dict.keys())):\n",
    "        bag = []\n",
    "        stemmed_words = [stemmer.stem(w) for w in pattern]\n",
    "\n",
    "        # If the word is present, add 1 to the bag, otherwise 0\n",
    "        for w in words:\n",
    "            if w in stemmed_words:\n",
    "                bag.append(1)\n",
    "            else:\n",
    "                bag.append(0)\n",
    "\n",
    "        output_row = np.zeros(len(labels))\n",
    "        output_row[labels.index(list(patterns.values())[x])] = 1\n",
    "\n",
    "        train.append(bag)\n",
    "        output.append(output_row)\n",
    "\n",
    "    return np.array(train), np.array(output)\n",
    "        \n",
    "train, output = one_hot_encoding(words, labels, patterns_dict)"
   ]
  },
  {
   "cell_type": "code",
   "execution_count": 5,
   "id": "13245cc3-3a0b-4bc1-ad15-e6de5b135914",
   "metadata": {},
   "outputs": [
    {
     "name": "stdout",
     "output_type": "stream",
     "text": [
      "Training Step: 2999  | total loss: \u001b[1m\u001b[32m0.00389\u001b[0m\u001b[0m | time: 0.002s\n",
      "| Adam | epoch: 1000 | loss: 0.00389 -- iter: 16/24\n",
      "Training Step: 3000  | total loss: \u001b[1m\u001b[32m0.00368\u001b[0m\u001b[0m | time: 0.003s\n",
      "| Adam | epoch: 1000 | loss: 0.00368 -- iter: 24/24\n",
      "--\n",
      "INFO:tensorflow:C:\\Users\\amber\\Github\\BasicChatbot\\model.tflearn is not in all_model_checkpoint_paths. Manually adding it.\n"
     ]
    }
   ],
   "source": [
    "import tensorflow as tf\n",
    "import tflearn as tfl\n",
    "\n",
    "def model():\n",
    "    tf.compat.v1.reset_default_graph()\n",
    "    nn = tfl.input_data(shape=[None, len(train[0])])\n",
    "    \n",
    "    # NN has 2 hidden layers, with 8 nuerons each.\n",
    "    nn = tfl.fully_connected(nn, 8)\n",
    "    nn = tfl.fully_connected(nn, 8)\n",
    "\n",
    "    # Specifies the number of nuerons in the output layer and the activation function used\n",
    "    nn = tfl.fully_connected(nn, len(output[0]), activation=\"softmax\") # Probability for each \n",
    "    nn = tfl.regression(nn)\n",
    "    \n",
    "    model = tfl.DNN(nn)\n",
    "    model.fit(train, output, n_epoch = 1000, batch_size = 8, show_metric = False)\n",
    "    model.save(\"model.tflearn\")\n",
    "\n",
    "model()"
   ]
  },
  {
   "cell_type": "code",
   "execution_count": null,
   "id": "a80f0a27-0e2c-44fb-843b-26a9eeda4269",
   "metadata": {},
   "outputs": [],
   "source": []
  }
 ],
 "metadata": {
  "kernelspec": {
   "display_name": "Python 3 (ipykernel)",
   "language": "python",
   "name": "python3"
  },
  "language_info": {
   "codemirror_mode": {
    "name": "ipython",
    "version": 3
   },
   "file_extension": ".py",
   "mimetype": "text/x-python",
   "name": "python",
   "nbconvert_exporter": "python",
   "pygments_lexer": "ipython3",
   "version": "3.11.2"
  }
 },
 "nbformat": 4,
 "nbformat_minor": 5
}
